{
  "nbformat": 4,
  "nbformat_minor": 0,
  "metadata": {
    "colab": {
      "name": "BiteNet_git.ipynb",
      "provenance": [],
      "collapsed_sections": []
    },
    "kernelspec": {
      "name": "python3",
      "display_name": "Python 3"
    },
    "language_info": {
      "name": "python"
    },
    "accelerator": "GPU"
  },
  "cells": [
    {
      "cell_type": "code",
      "execution_count": null,
      "metadata": {
        "colab": {
          "base_uri": "https://localhost:8080/"
        },
        "id": "vT_T3bNCQ-ZY",
        "outputId": "605381af-e4a1-4360-fcb6-34365cd59860"
      },
      "outputs": [
        {
          "output_type": "stream",
          "name": "stderr",
          "text": [
            "Cloning into 'BiteNET'...\n"
          ]
        }
      ],
      "source": [
        "%%bash\n",
        "rm -rf BiteNET/\n",
        "git clone https://github.com/Kirk-Zhen/BiteNET.git"
      ]
    },
    {
      "cell_type": "code",
      "source": [
        "import os\n",
        "os.chdir(\"/content/BiteNET\")"
      ],
      "metadata": {
        "id": "sRh7DHgCfOKr"
      },
      "execution_count": 2,
      "outputs": []
    },
    {
      "cell_type": "code",
      "source": [
        "!ls"
      ],
      "metadata": {
        "colab": {
          "base_uri": "https://localhost:8080/"
        },
        "id": "wa8eAP0tuhl3",
        "outputId": "06fb5c5a-5734-49ad-fd6d-a65a1af9b31b"
      },
      "execution_count": 3,
      "outputs": [
        {
          "output_type": "stream",
          "name": "stdout",
          "text": [
            "BiteNet  dataset  model_utils  README.md  requirements.txt  train  utils\n"
          ]
        }
      ]
    },
    {
      "cell_type": "code",
      "source": [
        "!python BiteNet_mh_RE.py \\\n",
        "        --data_source mimic3  --model Bite --verbose True --task BiteNet \\\n",
        "        --predict_type re --visit_threshold 2 --max_epoch 50 --train_batch_size 16 \\\n",
        "        --gpu 0 --valid_visits 10 --num_hidden_layers 5 --pos_encoding encoding \\\n",
        "        --min_cut_freq 5 --embedding_size 120 --dropout 0.1 --only_dx_flag False"
      ],
      "metadata": {
        "id": "MmXTnzkofEn-"
      },
      "execution_count": null,
      "outputs": []
    },
    {
      "cell_type": "code",
      "source": [
        "!python BiteNet_mh_DX.py \\\n",
        "        --data_source mimic3  --model Bite --verbose True --task BiteNet \\\n",
        "        --predict_type dx --visit_threshold 2 --max_epoch 50 --train_batch_size 16 \\\n",
        "        --gpu 0 --valid_visits 10 --num_hidden_layers 5 --pos_encoding encoding \\\n",
        "        --min_cut_freq 5 --embedding_size 120 --dropout 0.1 --only_dx_flag False"
      ],
      "metadata": {
        "id": "r5Hsag9WbmrG"
      },
      "execution_count": null,
      "outputs": []
    },
    {
      "cell_type": "code",
      "source": [
        ""
      ],
      "metadata": {
        "id": "5lCFASKl30gT"
      },
      "execution_count": null,
      "outputs": []
    },
    {
      "cell_type": "markdown",
      "source": [
        "### **RETAIN**"
      ],
      "metadata": {
        "id": "tZUTlsgcGeaI"
      }
    },
    {
      "cell_type": "code",
      "execution_count": null,
      "metadata": {
        "colab": {
          "base_uri": "https://localhost:8080/"
        },
        "outputId": "53a33d8a-09fe-4454-f981-875eb152aeb8",
        "id": "4pkiNxXSGdLE"
      },
      "outputs": [
        {
          "output_type": "stream",
          "name": "stderr",
          "text": [
            "Cloning into 'retain-keras'...\n"
          ]
        }
      ],
      "source": [
        "%%bash\n",
        "rm -rf retain-keras/\n",
        "git clone https://github.com/Optum/retain-keras.git"
      ]
    },
    {
      "cell_type": "code",
      "source": [
        "import os\n",
        "os.chdir(\"/content/retain-keras\")"
      ],
      "metadata": {
        "id": "hds9AUzvGdLE"
      },
      "execution_count": null,
      "outputs": []
    },
    {
      "cell_type": "code",
      "source": [
        "!unzip data.zip"
      ],
      "metadata": {
        "colab": {
          "base_uri": "https://localhost:8080/"
        },
        "id": "m1IlfPyvAN2N",
        "outputId": "1cf11e3f-c37e-4709-f1c6-82dbf5676fbc"
      },
      "execution_count": null,
      "outputs": [
        {
          "output_type": "stream",
          "name": "stdout",
          "text": [
            "Archive:  data.zip\n",
            "   creating: data/\n",
            "  inflating: data/data_test_3digit.pkl  \n",
            "  inflating: data/target_train.pkl   \n",
            "  inflating: data/data_test.pkl      \n",
            "  inflating: data/dictionary.pkl     \n",
            "  inflating: data/dictionary_3digit.pkl  \n",
            "  inflating: data/data_train_3digit.pkl  \n",
            "  inflating: data/data_train.pkl     \n",
            "  inflating: data/target_test.pkl    \n"
          ]
        }
      ]
    },
    {
      "cell_type": "code",
      "source": [
        "!python3 retain_train.py --num_codes=120 --epochs=10  "
      ],
      "metadata": {
        "colab": {
          "base_uri": "https://localhost:8080/"
        },
        "outputId": "216d2f05-c935-4db7-801d-d1fa3504b5b0",
        "id": "ou-3bG_4GdLF"
      },
      "execution_count": null,
      "outputs": [
        {
          "output_type": "stream",
          "name": "stdout",
          "text": [
            "Reading Data...\n",
            "Creating Model...\n",
            "WARNING:tensorflow:From retain_train.py:331: The name tf.keras.backend.set_session is deprecated. Please use tf.compat.v1.keras.backend.set_session instead.\n",
            "\n",
            "Training Model...\n",
            "Epoch 1/10\n",
            "163/165 [============================>.] - ETA: 0s - loss: 0.6173 - accuracy: 0.6659\n",
            "Epoch: 0 - ROC-AUC: 0.746059 PR-AUC: 0.640444\n",
            "165/165 [==============================] - 18s 50ms/step - loss: 0.6184 - accuracy: 0.6650\n",
            "Epoch 2/10\n",
            "160/165 [============================>.] - ETA: 0s - loss: 0.5736 - accuracy: 0.6985\n",
            "Epoch: 1 - ROC-AUC: 0.776839 PR-AUC: 0.687055\n",
            "165/165 [==============================] - 3s 15ms/step - loss: 0.5741 - accuracy: 0.6974\n",
            "Epoch 3/10\n",
            "162/165 [============================>.] - ETA: 0s - loss: 0.5548 - accuracy: 0.7162\n",
            "Epoch: 2 - ROC-AUC: 0.784197 PR-AUC: 0.700273\n",
            "165/165 [==============================] - 3s 15ms/step - loss: 0.5547 - accuracy: 0.7168\n",
            "Epoch 4/10\n",
            "164/165 [============================>.] - ETA: 0s - loss: 0.5449 - accuracy: 0.7253\n",
            "Epoch: 3 - ROC-AUC: 0.785538 PR-AUC: 0.699776\n",
            "165/165 [==============================] - 3s 15ms/step - loss: 0.5447 - accuracy: 0.7255\n",
            "Epoch 5/10\n",
            "163/165 [============================>.] - ETA: 0s - loss: 0.5395 - accuracy: 0.72422022-04-17 05:33:44.712713: W tensorflow/core/data/root_dataset.cc:200] Optimization loop failed: CANCELLED: Operation was cancelled\n",
            "\n",
            "Epoch: 4 - ROC-AUC: 0.784636 PR-AUC: 0.697795\n",
            "165/165 [==============================] - 3s 15ms/step - loss: 0.5371 - accuracy: 0.7263\n",
            "Epoch 6/10\n",
            "165/165 [==============================] - ETA: 0s - loss: 0.5329 - accuracy: 0.7316\n",
            "Epoch: 5 - ROC-AUC: 0.784707 PR-AUC: 0.697354\n",
            "165/165 [==============================] - 3s 15ms/step - loss: 0.5329 - accuracy: 0.7316\n",
            "Epoch 7/10\n",
            "163/165 [============================>.] - ETA: 0s - loss: 0.5337 - accuracy: 0.7275\n",
            "Epoch: 6 - ROC-AUC: 0.787938 PR-AUC: 0.701914\n",
            "165/165 [==============================] - 3s 15ms/step - loss: 0.5327 - accuracy: 0.7285\n",
            "Epoch 8/10\n",
            "164/165 [============================>.] - ETA: 0s - loss: 0.5302 - accuracy: 0.7294\n",
            "Epoch: 7 - ROC-AUC: 0.788185 PR-AUC: 0.700082\n",
            "165/165 [==============================] - 3s 15ms/step - loss: 0.5299 - accuracy: 0.7297\n",
            "Epoch 9/10\n",
            "162/165 [============================>.] - ETA: 0s - loss: 0.5242 - accuracy: 0.7345\n",
            "Epoch: 8 - ROC-AUC: 0.788226 PR-AUC: 0.701116\n",
            "165/165 [==============================] - 3s 15ms/step - loss: 0.5250 - accuracy: 0.7336\n",
            "Epoch 10/10\n",
            "163/165 [============================>.] - ETA: 0s - loss: 0.5231 - accuracy: 0.73482022-04-17 05:34:02.936993: W tensorflow/core/data/root_dataset.cc:200] Optimization loop failed: CANCELLED: Operation was cancelled\n",
            "\n",
            "Epoch: 9 - ROC-AUC: 0.787862 PR-AUC: 0.695656\n",
            "165/165 [==============================] - 3s 15ms/step - loss: 0.5237 - accuracy: 0.7352\n"
          ]
        }
      ]
    }
  ]
}